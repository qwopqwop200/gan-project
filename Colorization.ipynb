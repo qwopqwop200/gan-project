{
 "cells": [
  {
   "cell_type": "code",
   "execution_count": 1,
   "metadata": {},
   "outputs": [
    {
     "name": "stderr",
     "output_type": "stream",
     "text": [
      "C:\\ProgramData\\Anaconda3\\envs\\tf\\lib\\site-packages\\tensorflow_addons\\utils\\ensure_tf_install.py:68: UserWarning: Tensorflow Addons supports using Python ops for all Tensorflow versions above or equal to 2.2.0 and strictly below 2.3.0 (nightly versions are not supported). \n",
      " The versions of TensorFlow you are currently using is 2.3.0 and is not supported. \n",
      "Some things might work, some things might not.\n",
      "If you were to encounter a bug, do not file an issue.\n",
      "If you want to make sure you're using a tested and supported configuration, either change the TensorFlow version or the TensorFlow Addons's version. \n",
      "You can find the compatibility matrix in TensorFlow Addon's readme:\n",
      "https://github.com/tensorflow/addons\n",
      "  UserWarning,\n"
     ]
    }
   ],
   "source": [
    "import tensorflow_addons as tfa\n",
    "import tensorflow as tf\n",
    "from tensorflow.keras import *\n",
    "import numpy as np\n",
    "import os\n",
    "from PIL import Image as pillow\n",
    "import matplotlib.pyplot as plt\n",
    "import glob"
   ]
  },
  {
   "cell_type": "code",
   "execution_count": 2,
   "metadata": {},
   "outputs": [
    {
     "name": "stdout",
     "output_type": "stream",
     "text": [
      "0\n",
      "1000\n",
      "2000\n",
      "3000\n",
      "4000\n",
      "5000\n",
      "6000\n",
      "7000\n",
      "8000\n",
      "9000\n",
      "10000\n",
      "11000\n",
      "12000\n",
      "13000\n",
      "14000\n",
      "15000\n",
      "16000\n",
      "17000\n",
      "18000\n",
      "19000\n"
     ]
    }
   ],
   "source": [
    "path_list = glob.glob('C:\\\\Users\\\\qwopq\\\\Downloads\\\\images\\\\*')\n",
    "train_x = []\n",
    "train_y = []\n",
    "for i in range(len(path_list[:20000])):\n",
    "    train_x.append(np.array(pillow.open(path_list[i]).convert('L').resize((64,64))))\n",
    "    train_y.append(np.array(pillow.open(path_list[i]).convert('RGB').resize((64,64))))\n",
    "    if i%1000 == 0:\n",
    "        print(i)\n",
    "train_x = np.array(train_x)\n",
    "train_y = np.array(train_y)"
   ]
  },
  {
   "cell_type": "code",
   "execution_count": 3,
   "metadata": {},
   "outputs": [],
   "source": [
    "filters = 64"
   ]
  },
  {
   "cell_type": "code",
   "execution_count": 4,
   "metadata": {},
   "outputs": [],
   "source": [
    "def RB(x,filters):\n",
    "    skip = x\n",
    "    x = layers.Conv2D(filters,3,padding='same')(x)\n",
    "    x = layers.LeakyReLU(0.2)(x)\n",
    "    x = layers.Conv2D(filters,3,padding='same')(x)\n",
    "    x = x + skip\n",
    "    return x\n",
    "\n",
    "def CA(x,filters):\n",
    "    skip = x\n",
    "    x = layers.GlobalAvgPool2D()(x)\n",
    "    x = layers.Dense(filters/4)(x)\n",
    "    x = layers.LeakyReLU(0.2)(x)\n",
    "    x = layers.Dense(filters)(x)\n",
    "    x = activations.sigmoid(x)\n",
    "    x = layers.Reshape((1,1,filters))(x)\n",
    "    x = x * skip\n",
    "    return x\n",
    "\n",
    "def NTB(x,filters):\n",
    "    skip = x\n",
    "    x = RB(x,filters)\n",
    "    x = RB(x,filters)\n",
    "    x = CA(x,filters)\n",
    "    x = RB(x,filters)\n",
    "    x = RB(x,filters)\n",
    "    x = CA(x,filters)\n",
    "    x = x + skip\n",
    "    return x\n",
    "\n",
    "input_x = layers.Input((None,None,1))\n",
    "x = layers.Conv2D(filters,3,padding='same')(input_x)\n",
    "x = layers.LeakyReLU()(x)\n",
    "skip = x\n",
    "x = NTB(x,filters)\n",
    "x = NTB(x,filters)\n",
    "x = NTB(x,filters)\n",
    "x = NTB(x,filters)\n",
    "x = x + skip\n",
    "x = layers.Conv2D(filters,3,padding='same')(x)\n",
    "x = layers.LeakyReLU(0.2)(x)\n",
    "x = layers.Conv2D(3,3,padding='same')(x)\n",
    "x = x + input_x\n",
    "gan = Model(input_x,x)"
   ]
  },
  {
   "cell_type": "code",
   "execution_count": 5,
   "metadata": {},
   "outputs": [
    {
     "name": "stdout",
     "output_type": "stream",
     "text": [
      "WARNING:tensorflow:Layer conv2d_35 is casting an input tensor from dtype float16 to the layer's dtype of float32, which is new behavior in TensorFlow 2.  The layer has dtype float32 because its dtype defaults to floatx.\n",
      "\n",
      "If you intended to run this layer in float32, you can safely ignore this warning. If in doubt, this warning is likely only an issue if you are porting a TensorFlow 1.X model to TensorFlow 2.\n",
      "\n",
      "To change all layers to have dtype float16 by default, call `tf.keras.backend.set_floatx('float16')`. To change just this layer, pass dtype='float16' to the layer constructor. If you are the author of this layer, you can disable autocasting by passing autocast=False to the base Layer constructor.\n",
      "\n",
      "WARNING:tensorflow:Layer conv2d_41 is casting an input tensor from dtype float16 to the layer's dtype of float32, which is new behavior in TensorFlow 2.  The layer has dtype float32 because its dtype defaults to floatx.\n",
      "\n",
      "If you intended to run this layer in float32, you can safely ignore this warning. If in doubt, this warning is likely only an issue if you are porting a TensorFlow 1.X model to TensorFlow 2.\n",
      "\n",
      "To change all layers to have dtype float16 by default, call `tf.keras.backend.set_floatx('float16')`. To change just this layer, pass dtype='float16' to the layer constructor. If you are the author of this layer, you can disable autocasting by passing autocast=False to the base Layer constructor.\n",
      "\n"
     ]
    }
   ],
   "source": [
    "def conv_block(x,filters):\n",
    "    x = layers.Conv2D(filters,3,padding='same')(x)\n",
    "    x = layers.BatchNormalization()(x)\n",
    "    x = layers.LeakyReLU(0.2)(x)\n",
    "    return x\n",
    "\n",
    "input_x = layers.Input((None,None,3),dtype='float16')\n",
    "x = conv_block(input_x,filters)\n",
    "x = conv_block(x,filters)\n",
    "x = layers.MaxPool2D(2)(x)\n",
    "x = conv_block(x,filters*2)\n",
    "x = conv_block(x,filters*2)\n",
    "x = layers.MaxPool2D(2)(x)\n",
    "x = conv_block(x,filters*4)\n",
    "x = conv_block(x,filters*4)\n",
    "x = layers.GlobalAveragePooling2D()(x)\n",
    "x = layers.Dense(100)(x)\n",
    "x = layers.LeakyReLU(0.2)(x)\n",
    "x = layers.Dense(1)(x)\n",
    "dis_g = Model(input_x,x)\n",
    "\n",
    "input_x = layers.Input((None,None,3),dtype='float16')\n",
    "x = conv_block(input_x,filters)\n",
    "x = conv_block(x,filters)\n",
    "x = layers.MaxPool2D(2)(x)\n",
    "x = conv_block(x,filters*2)\n",
    "x = layers.MaxPool2D(2)(x)\n",
    "x = conv_block(x,filters*2)\n",
    "x = layers.MaxPool2D(2)(x)\n",
    "x = conv_block(x,filters*4)\n",
    "x = layers.MaxPool2D(2)(x)\n",
    "x = conv_block(x,filters*4)\n",
    "x = layers.MaxPool2D(2)(x)\n",
    "x = conv_block(x,filters*8)\n",
    "x = conv_block(x,1)\n",
    "dis_l = Model(input_x,x)"
   ]
  },
  {
   "cell_type": "code",
   "execution_count": 6,
   "metadata": {
    "scrolled": true
   },
   "outputs": [],
   "source": [
    "optimizer = optimizers.Adam(0.0002, 0.5)"
   ]
  },
  {
   "cell_type": "code",
   "execution_count": 7,
   "metadata": {},
   "outputs": [],
   "source": [
    "def discriminator_loss(disc_real_output, disc_generated_output):\n",
    "    real_loss = losses.BinaryCrossentropy(from_logits=True)(tf.ones_like(disc_real_output), disc_real_output)\n",
    "    generated_loss = losses.BinaryCrossentropy(from_logits=True)(tf.zeros_like(disc_generated_output), disc_generated_output)\n",
    "    total_disc_loss = real_loss + generated_loss\n",
    "    return total_disc_loss"
   ]
  },
  {
   "cell_type": "code",
   "execution_count": 8,
   "metadata": {},
   "outputs": [],
   "source": [
    "def generator_loss(disc_generated_output_l,disc_generated_output_g, gen_output, target):\n",
    "    gan_loss_l = losses.BinaryCrossentropy(from_logits=True)(tf.ones_like(disc_generated_output_l), disc_generated_output_l)\n",
    "    gan_loss_g = losses.BinaryCrossentropy(from_logits=True)(tf.ones_like(disc_generated_output_g), disc_generated_output_g)\n",
    "    gan_loss = gan_loss_l + gan_loss_g\n",
    "    l1_loss = tf.reduce_mean(tf.abs(target - gen_output))\n",
    "    total_gen_loss = 0.01*gan_loss + l1_loss\n",
    "    return total_gen_loss, gan_loss, l1_loss"
   ]
  },
  {
   "cell_type": "code",
   "execution_count": 9,
   "metadata": {},
   "outputs": [],
   "source": [
    "@tf.function\n",
    "def train_step(input_image,target):\n",
    "    with tf.GradientTape() as gan_tape, tf.GradientTape() as dis_tape_l, tf.GradientTape() as dis_tape_g:\n",
    "        gen_output = gan(input_image, training=True)\n",
    "        disc_real_output_l = dis_l(target, training=True)\n",
    "        disc_generated_output_l = dis_l(gen_output, training=True)\n",
    "        \n",
    "        disc_real_output_g = dis_g(target, training=True)\n",
    "        disc_generated_output_g = dis_g(gen_output, training=True)\n",
    "        \n",
    "        gen_total_loss = generator_loss(disc_generated_output_l,disc_generated_output_g, gen_output, target)\n",
    "        disc_loss_l = discriminator_loss(disc_real_output_l, disc_generated_output_l)\n",
    "        disc_loss_g = discriminator_loss(disc_real_output_g, disc_generated_output_g)\n",
    "        \n",
    "    generator_gradients = gan_tape.gradient(gen_total_loss,gan.trainable_variables)\n",
    "    discriminator_gradients_l = dis_tape_l.gradient(disc_loss_l,dis_l.trainable_variables)\n",
    "    discriminator_gradients_g = dis_tape_g.gradient(disc_loss_g,dis_g.trainable_variables)\n",
    "\n",
    "    optimizer.apply_gradients(zip(generator_gradients,gan.trainable_variables))\n",
    "    optimizer.apply_gradients(zip(discriminator_gradients_l,dis_l.trainable_variables))\n",
    "    optimizer.apply_gradients(zip(discriminator_gradients_g,dis_g.trainable_variables))"
   ]
  },
  {
   "cell_type": "code",
   "execution_count": 10,
   "metadata": {},
   "outputs": [],
   "source": [
    "def fit(train_x,step,batch_size):\n",
    "    for i in range(step):\n",
    "        idx = np.random.randint(0,train_x.shape[0]-batch_size)\n",
    "        x = np.array(train_x[idx:idx+batch_size],'float32')[:,:,:,tf.newaxis]\n",
    "        y = np.array(train_y[idx:idx+batch_size],'float32')\n",
    "        train_step(x/255,y/255)\n",
    "        if i%100 == 0:\n",
    "            print(i)"
   ]
  },
  {
   "cell_type": "code",
   "execution_count": 11,
   "metadata": {
    "scrolled": true
   },
   "outputs": [
    {
     "name": "stdout",
     "output_type": "stream",
     "text": [
      "0\n",
      "100\n",
      "200\n",
      "300\n",
      "400\n",
      "500\n",
      "600\n",
      "700\n",
      "800\n",
      "900\n",
      "1000\n",
      "1100\n",
      "1200\n",
      "1300\n",
      "1400\n",
      "1500\n",
      "1600\n",
      "1700\n",
      "1800\n",
      "1900\n",
      "2000\n",
      "2100\n",
      "2200\n",
      "2300\n",
      "2400\n",
      "2500\n",
      "2600\n",
      "2700\n",
      "2800\n",
      "2900\n",
      "3000\n",
      "3100\n",
      "3200\n",
      "3300\n",
      "3400\n",
      "3500\n",
      "3600\n",
      "3700\n",
      "3800\n",
      "3900\n",
      "4000\n",
      "4100\n",
      "4200\n",
      "4300\n",
      "4400\n",
      "4500\n",
      "4600\n",
      "4700\n",
      "4800\n",
      "4900\n"
     ]
    }
   ],
   "source": [
    "fit(train_x,5000,8)"
   ]
  },
  {
   "cell_type": "code",
   "execution_count": 12,
   "metadata": {},
   "outputs": [],
   "source": [
    "x_img = train_x[100]\n",
    "y_img = train_y[100]"
   ]
  },
  {
   "cell_type": "code",
   "execution_count": 13,
   "metadata": {},
   "outputs": [
    {
     "data": {
      "text/plain": [
       "<matplotlib.image.AxesImage at 0x1ce3b084708>"
      ]
     },
     "execution_count": 13,
     "metadata": {},
     "output_type": "execute_result"
    },
    {
     "data": {
      "image/png": "[encoded data removed]",
      "text/plain": [
       "<Figure size 432x288 with 1 Axes>"
      ]
     },
     "metadata": {
      "needs_background": "light"
     },
     "output_type": "display_data"
    }
   ],
   "source": [
    "plt.imshow(np.array(y_img,'uint8'))"
   ]
  },
  {
   "cell_type": "code",
   "execution_count": 16,
   "metadata": {},
   "outputs": [
    {
     "data": {
      "text/plain": [
       "<matplotlib.image.AxesImage at 0x1ce7fe54a88>"
      ]
     },
     "execution_count": 16,
     "metadata": {},
     "output_type": "execute_result"
    },
    {
     "data": {
      "image/png": "[encoded data removed]",
      "text/plain": [
       "<Figure size 432x288 with 1 Axes>"
      ]
     },
     "metadata": {
      "needs_background": "light"
     },
     "output_type": "display_data"
    }
   ],
   "source": [
    "plt.imshow(np.array(x_img,'uint8'), cmap='gray', vmin=0, vmax=255)"
   ]
  },
  {
   "cell_type": "code",
   "execution_count": 17,
   "metadata": {},
   "outputs": [
    {
     "data": {
      "text/plain": [
       "<matplotlib.image.AxesImage at 0x1ce7ff33188>"
      ]
     },
     "execution_count": 17,
     "metadata": {},
     "output_type": "execute_result"
    },
    {
     "data": {
      "image/png": "[encoded data removed]",
      "text/plain": [
       "<Figure size 432x288 with 1 Axes>"
      ]
     },
     "metadata": {
      "needs_background": "light"
     },
     "output_type": "display_data"
    }
   ],
   "source": [
    "plt.imshow(np.array(np.clip((gan(np.array(x_img,'float32')[tf.newaxis]/255)*255),0,255),'uint8')[0])"
   ]
  },
  {
   "cell_type": "code",
   "execution_count": null,
   "metadata": {},
   "outputs": [],
   "source": []
  }
 ],
 "metadata": {
  "kernelspec": {
   "display_name": "Python 3",
   "language": "python",
   "name": "python3"
  },
  "language_info": {
   "codemirror_mode": {
    "name": "ipython",
    "version": 3
   },
   "file_extension": ".py",
   "mimetype": "text/x-python",
   "name": "python",
   "nbconvert_exporter": "python",
   "pygments_lexer": "ipython3",
   "version": "3.7.7"
  }
 },
 "nbformat": 4,
 "nbformat_minor": 4
}
